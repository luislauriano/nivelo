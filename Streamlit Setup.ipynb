{
 "cells": [
  {
   "cell_type": "code",
   "execution_count": 1,
   "metadata": {},
   "outputs": [
    {
     "name": "stdout",
     "output_type": "stream",
     "text": [
      "Collecting streamlit\n",
      "  Downloading streamlit-1.23.1-py2.py3-none-any.whl (8.9 MB)\n",
      "Requirement already satisfied: python-dateutil<3,>=2 in c:\\users\\charu\\anaconda3\\lib\\site-packages (from streamlit) (2.8.1)\n",
      "Collecting pyarrow>=4.0\n",
      "  Downloading pyarrow-12.0.1-cp37-cp37m-win_amd64.whl (21.5 MB)\n",
      "Collecting gitpython!=3.1.19,<4,>=3\n",
      "  Downloading GitPython-3.1.40-py3-none-any.whl (190 kB)\n",
      "Collecting protobuf<5,>=3.20\n",
      "  Downloading protobuf-4.24.4-cp37-cp37m-win_amd64.whl (430 kB)\n",
      "Requirement already satisfied: typing-extensions<5,>=4.0.1 in c:\\users\\charu\\anaconda3\\lib\\site-packages (from streamlit) (4.3.0)\n",
      "Collecting toml<2\n",
      "  Downloading toml-0.10.2-py2.py3-none-any.whl (16 kB)\n",
      "Collecting tenacity<9,>=8.0.0\n",
      "  Downloading tenacity-8.2.3-py3-none-any.whl (24 kB)\n",
      "Requirement already satisfied: numpy<2,>=1 in c:\\users\\charu\\anaconda3\\lib\\site-packages (from streamlit) (1.18.1)\n",
      "Collecting tzlocal<5,>=1.1\n",
      "  Downloading tzlocal-4.3.1-py3-none-any.whl (20 kB)\n",
      "Requirement already satisfied: packaging<24,>=14.1 in c:\\users\\charu\\anaconda3\\lib\\site-packages (from streamlit) (20.1)\n",
      "Collecting cachetools<6,>=4.0\n",
      "  Downloading cachetools-5.3.2-py3-none-any.whl (9.3 kB)\n",
      "Requirement already satisfied: click<9,>=7.0 in c:\\users\\charu\\anaconda3\\lib\\site-packages (from streamlit) (7.0)\n",
      "Requirement already satisfied: requests<3,>=2.4 in c:\\users\\charu\\anaconda3\\lib\\site-packages (from streamlit) (2.22.0)\n",
      "Collecting pympler<2,>=0.9\n",
      "  Downloading Pympler-1.0.1-py3-none-any.whl (164 kB)\n",
      "Collecting altair<6,>=4.0\n",
      "  Downloading altair-5.0.1-py3-none-any.whl (471 kB)\n",
      "Collecting pydeck<1,>=0.1.dev5\n",
      "  Downloading pydeck-0.8.1b0-py2.py3-none-any.whl (4.8 MB)\n",
      "Collecting blinker<2,>=1.0.0\n",
      "  Downloading blinker-1.6.3-py3-none-any.whl (13 kB)\n",
      "Requirement already satisfied: rich<14,>=10.11.0 in c:\\users\\charu\\anaconda3\\lib\\site-packages (from streamlit) (12.4.4)\n",
      "Collecting validators<1,>=0.2\n",
      "  Downloading validators-0.20.0.tar.gz (30 kB)\n",
      "Requirement already satisfied: pandas<3,>=0.25 in c:\\users\\charu\\anaconda3\\lib\\site-packages (from streamlit) (1.0.1)\n",
      "Requirement already satisfied: pillow<10,>=6.2.0 in c:\\users\\charu\\anaconda3\\lib\\site-packages (from streamlit) (7.0.0)\n",
      "Requirement already satisfied: importlib-metadata<7,>=1.4 in c:\\users\\charu\\anaconda3\\lib\\site-packages (from streamlit) (1.5.0)\n",
      "Requirement already satisfied: watchdog; platform_system != \"Darwin\" in c:\\users\\charu\\anaconda3\\lib\\site-packages (from streamlit) (0.10.2)\n",
      "Requirement already satisfied: tornado<7,>=6.0.3 in c:\\users\\charu\\anaconda3\\lib\\site-packages (from streamlit) (6.0.3)\n",
      "Requirement already satisfied: six>=1.5 in c:\\users\\charu\\anaconda3\\lib\\site-packages (from python-dateutil<3,>=2->streamlit) (1.14.0)\n",
      "Collecting gitdb<5,>=4.0.1\n",
      "  Downloading gitdb-4.0.11-py3-none-any.whl (62 kB)\n",
      "Collecting pytz-deprecation-shim\n",
      "  Downloading pytz_deprecation_shim-0.1.0.post0-py2.py3-none-any.whl (15 kB)\n",
      "Collecting tzdata; platform_system == \"Windows\"\n",
      "  Downloading tzdata-2023.3-py2.py3-none-any.whl (341 kB)\n",
      "Collecting backports.zoneinfo; python_version < \"3.9\"\n",
      "  Downloading backports.zoneinfo-0.2.1-cp37-cp37m-win_amd64.whl (38 kB)\n",
      "Requirement already satisfied: pyparsing>=2.0.2 in c:\\users\\charu\\anaconda3\\lib\\site-packages (from packaging<24,>=14.1->streamlit) (2.4.6)\n",
      "Collecting urllib3!=1.25.0,!=1.25.1,<1.26,>=1.21.1\n",
      "  Using cached urllib3-1.25.11-py2.py3-none-any.whl (127 kB)\n",
      "Requirement already satisfied: chardet<3.1.0,>=3.0.2 in c:\\users\\charu\\anaconda3\\lib\\site-packages (from requests<3,>=2.4->streamlit) (3.0.4)\n",
      "Requirement already satisfied: idna<2.9,>=2.5 in c:\\users\\charu\\anaconda3\\lib\\site-packages (from requests<3,>=2.4->streamlit) (2.8)\n",
      "Requirement already satisfied: certifi>=2017.4.17 in c:\\users\\charu\\anaconda3\\lib\\site-packages (from requests<3,>=2.4->streamlit) (2019.11.28)\n",
      "Requirement already satisfied: jinja2 in c:\\users\\charu\\anaconda3\\lib\\site-packages (from altair<6,>=4.0->streamlit) (2.11.1)\n",
      "Requirement already satisfied: toolz in c:\\users\\charu\\anaconda3\\lib\\site-packages (from altair<6,>=4.0->streamlit) (0.10.0)\n",
      "Requirement already satisfied: jsonschema>=3.0 in c:\\users\\charu\\anaconda3\\lib\\site-packages (from altair<6,>=4.0->streamlit) (3.2.0)\n",
      "Requirement already satisfied: commonmark<0.10.0,>=0.9.0 in c:\\users\\charu\\anaconda3\\lib\\site-packages (from rich<14,>=10.11.0->streamlit) (0.9.1)\n",
      "Requirement already satisfied: pygments<3.0.0,>=2.6.0 in c:\\users\\charu\\anaconda3\\lib\\site-packages (from rich<14,>=10.11.0->streamlit) (2.12.0)\n",
      "Requirement already satisfied: decorator>=3.4.0 in c:\\users\\charu\\anaconda3\\lib\\site-packages (from validators<1,>=0.2->streamlit) (4.4.1)\n",
      "Requirement already satisfied: pytz>=2017.2 in c:\\users\\charu\\anaconda3\\lib\\site-packages (from pandas<3,>=0.25->streamlit) (2019.3)\n",
      "Requirement already satisfied: zipp>=0.5 in c:\\users\\charu\\anaconda3\\lib\\site-packages (from importlib-metadata<7,>=1.4->streamlit) (2.2.0)\n",
      "Requirement already satisfied: pathtools>=0.1.1 in c:\\users\\charu\\anaconda3\\lib\\site-packages (from watchdog; platform_system != \"Darwin\"->streamlit) (0.1.2)\n",
      "Collecting smmap<6,>=3.0.1\n",
      "  Downloading smmap-5.0.1-py3-none-any.whl (24 kB)\n",
      "Requirement already satisfied: MarkupSafe>=0.23 in c:\\users\\charu\\anaconda3\\lib\\site-packages (from jinja2->altair<6,>=4.0->streamlit) (1.1.1)\n",
      "Requirement already satisfied: setuptools in c:\\users\\charu\\anaconda3\\lib\\site-packages (from jsonschema>=3.0->altair<6,>=4.0->streamlit) (45.2.0.post20200210)\n",
      "Requirement already satisfied: pyrsistent>=0.14.0 in c:\\users\\charu\\anaconda3\\lib\\site-packages (from jsonschema>=3.0->altair<6,>=4.0->streamlit) (0.15.7)\n",
      "Requirement already satisfied: attrs>=17.4.0 in c:\\users\\charu\\anaconda3\\lib\\site-packages (from jsonschema>=3.0->altair<6,>=4.0->streamlit) (19.3.0)\n",
      "Building wheels for collected packages: validators\n",
      "  Building wheel for validators (setup.py): started\n",
      "  Building wheel for validators (setup.py): finished with status 'done'\n",
      "  Created wheel for validators: filename=validators-0.20.0-py3-none-any.whl size=19570 sha256=3d65b684f55c87e4e446a6e8b9ae50d945ee3c52923a1d8e76c27cc22181953e\n",
      "  Stored in directory: c:\\users\\charu\\appdata\\local\\pip\\cache\\wheels\\5f\\55\\ab\\36a76989f7f88d9ca7b1f68da6d94252bb6a8d6ad4f18e04e9\n",
      "Successfully built validators\n",
      "Installing collected packages: pyarrow, smmap, gitdb, gitpython, protobuf, toml, tenacity, tzdata, backports.zoneinfo, pytz-deprecation-shim, tzlocal, cachetools, pympler, altair, pydeck, blinker, validators, streamlit, urllib3\n",
      "  Attempting uninstall: urllib3\n",
      "    Found existing installation: urllib3 1.26.10\n",
      "    Uninstalling urllib3-1.26.10:\n",
      "      Successfully uninstalled urllib3-1.26.10\n",
      "Successfully installed altair-5.0.1 backports.zoneinfo-0.2.1 blinker-1.6.3 cachetools-5.3.2 gitdb-4.0.11 gitpython-3.1.40 protobuf-4.24.4 pyarrow-12.0.1 pydeck-0.8.1b0 pympler-1.0.1 pytz-deprecation-shim-0.1.0.post0 smmap-5.0.1 streamlit-1.23.1 tenacity-8.2.3 toml-0.10.2 tzdata-2023.3 tzlocal-4.3.1 urllib3-1.25.11 validators-0.20.0\n"
     ]
    },
    {
     "name": "stderr",
     "output_type": "stream",
     "text": [
      "ERROR: selenium 4.3.0 has requirement urllib3[secure,socks]~=1.26, but you'll have urllib3 1.25.11 which is incompatible.\n",
      "ERROR: huggingface-hub 0.8.1 has requirement packaging>=20.9, but you'll have packaging 20.1 which is incompatible.\n"
     ]
    }
   ],
   "source": [
    "!pip install streamlit"
   ]
  },
  {
   "cell_type": "code",
   "execution_count": 2,
   "metadata": {},
   "outputs": [
    {
     "name": "stdout",
     "output_type": "stream",
     "text": [
      "Collecting pipreqs\n",
      "  Downloading pipreqs-0.4.13-py2.py3-none-any.whl (33 kB)\n",
      "Collecting yarg\n",
      "  Downloading yarg-0.1.9-py2.py3-none-any.whl (19 kB)\n",
      "Processing c:\\users\\charu\\appdata\\local\\pip\\cache\\wheels\\72\\b0\\3f\\1d95f96ff986c7dfffe46ce2be4062f38ebd04b506c77c81b9\\docopt-0.6.2-py2.py3-none-any.whl\n",
      "Requirement already satisfied: requests in c:\\users\\charu\\anaconda3\\lib\\site-packages (from yarg->pipreqs) (2.22.0)\n",
      "Requirement already satisfied: idna<2.9,>=2.5 in c:\\users\\charu\\anaconda3\\lib\\site-packages (from requests->yarg->pipreqs) (2.8)\n",
      "Requirement already satisfied: urllib3!=1.25.0,!=1.25.1,<1.26,>=1.21.1 in c:\\users\\charu\\anaconda3\\lib\\site-packages (from requests->yarg->pipreqs) (1.25.11)\n",
      "Requirement already satisfied: certifi>=2017.4.17 in c:\\users\\charu\\anaconda3\\lib\\site-packages (from requests->yarg->pipreqs) (2019.11.28)\n",
      "Requirement already satisfied: chardet<3.1.0,>=3.0.2 in c:\\users\\charu\\anaconda3\\lib\\site-packages (from requests->yarg->pipreqs) (3.0.4)\n",
      "Installing collected packages: yarg, docopt, pipreqs\n",
      "Successfully installed docopt-0.6.2 pipreqs-0.4.13 yarg-0.1.9\n"
     ]
    }
   ],
   "source": [
    "!pip install pipreqs"
   ]
  },
  {
   "cell_type": "code",
   "execution_count": 7,
   "metadata": {},
   "outputs": [
    {
     "name": "stderr",
     "output_type": "stream",
     "text": [
      "INFO: Successfully saved requirements file in C:\\Users\\charu\\Charu\\GitProjects\\MLDeploymentUsingStreamlit\\requirements.txt\n"
     ]
    }
   ],
   "source": [
    "!pipreqs"
   ]
  },
  {
   "cell_type": "code",
   "execution_count": 6,
   "metadata": {},
   "outputs": [
    {
     "name": "stderr",
     "output_type": "stream",
     "text": [
      "INFO: Successfully saved requirements file in C:\\Users\\charu\\Charu\\GitProjects\\MLDeploymentUsingStreamlit\\requirements.txt\n"
     ]
    }
   ],
   "source": [
    "!pipreqs --force"
   ]
  },
  {
   "cell_type": "code",
   "execution_count": null,
   "metadata": {},
   "outputs": [],
   "source": []
  }
 ],
 "metadata": {
  "kernelspec": {
   "display_name": "Python 3",
   "language": "python",
   "name": "python3"
  },
  "language_info": {
   "codemirror_mode": {
    "name": "ipython",
    "version": 3
   },
   "file_extension": ".py",
   "mimetype": "text/x-python",
   "name": "python",
   "nbconvert_exporter": "python",
   "pygments_lexer": "ipython3",
   "version": "3.7.6"
  }
 },
 "nbformat": 4,
 "nbformat_minor": 4
}
